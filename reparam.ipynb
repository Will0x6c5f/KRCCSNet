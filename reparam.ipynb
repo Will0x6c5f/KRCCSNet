{
 "cells": [
  {
   "cell_type": "code",
   "execution_count": null,
   "metadata": {},
   "outputs": [],
   "source": [
    "import torch\n",
    "import torch.nn as nn\n",
    "import torch.nn.functional as F\n",
    "import torch.optim as optim\n",
    "import os\n",
    "import matplotlib.pyplot as plt\n",
    "import model.krccsnet as krccsnet\n",
    "from loss import *\n",
    "from data_processor import *\n",
    "from trainer import *\n",
    "torch.set_printoptions(precision=8)\n",
    "os.environ[\"CUDA_VISIBLE_DEVICES\"] = '0'\n",
    "trn_loader, bsds, set5, set14 = data_loader()\n",
    "def valid(model):\n",
    "    criterion = loss_fn\n",
    "    model.eval()\n",
    "    psnr1, ssim1 = valid_bsds(bsds, model, criterion)\n",
    "    print(\"----------BSDS----------PSNR: %.2f----------SSIM: %.4f\" % (psnr1, ssim1))\n",
    "    psnr2, ssim2 = valid_set(set5, model, criterion)\n",
    "    print(\"----------Set5----------PSNR: %.2f----------SSIM: %.4f\" % (psnr2, ssim2))\n",
    "    psnr3, ssim3 = valid_set(set14, model, criterion)\n",
    "    print(\"----------Set14----------PSNR: %.2f----------SSIM: %.4f\" % (psnr3, ssim3))"
   ]
  },
  {
   "cell_type": "code",
   "execution_count": null,
   "metadata": {},
   "outputs": [],
   "source": [
    "def kronecker_product(w1,w2,stride):\n",
    "    c2,c1,k1,h=w1.shape\n",
    "    c3,_,k2,h=w2.shape\n",
    "    p=(k2-1)*stride\n",
    "    l=[]\n",
    "    for c in range(c3):\n",
    "        ww=F.pad(w1,(0,p,0,p),value=0)\n",
    "        wc=torch.zeros((1,c1,p+k1,p+k1)).to(w1.device)\n",
    "        for i in range(k2):\n",
    "            for j in range(k2):\n",
    "                x=ww.roll(shifts=(i*stride,j*stride),dims=(2,3))\n",
    "                v=w2[c,:,i,j]\n",
    "                x=x.reshape(c2,-1)\n",
    "                wc+=(v@x).reshape(1,c1,p+k1,p+k1)\n",
    "        l.append(wc)\n",
    "    w=torch.cat(l,dim=0)\n",
    "    return w\n",
    "\n",
    "def reparm(csm:krccsnet.LKSN):\n",
    "    w1=csm.conv.weight.data\n",
    "    s=1 \n",
    "    for i in range(csm.depth):\n",
    "        pool_weight=torch.zeros_like(csm.down[i].conv.weight.data)\n",
    "        for j in range(32):\n",
    "            pool_weight[j,j,1,1]=0.25\n",
    "            pool_weight[j,j,1,2]=0.25\n",
    "            pool_weight[j,j,2,1]=0.25\n",
    "            pool_weight[j,j,2,2]=0.25\n",
    "        \n",
    "        w2=csm.down[i].conv.weight.data+pool_weight\n",
    "        w1=kronecker_product(w1,w2,s)\n",
    "        s*=2\n",
    "\n",
    "    w2=csm.linear.weight.data\n",
    "    w=kronecker_product(w1,w2,s)\n",
    "    \n",
    "    cout,cin,k,_=w.shape\n",
    "    pad=(k-1)//2\n",
    "    ret=nn.Conv2d(cin, cout, kernel_size=k, padding=pad, stride=s, bias=False)\n",
    "    ret.weight.data=w\n",
    "    return ret"
   ]
  },
  {
   "cell_type": "code",
   "execution_count": null,
   "metadata": {},
   "outputs": [],
   "source": [
    "sensing_rate=0.25"
   ]
  },
  {
   "cell_type": "code",
   "execution_count": null,
   "metadata": {},
   "outputs": [],
   "source": [
    "model_kr=krccsnet.build_LKSN_ARM(sensing_rate)\n",
    "path='./saved_model/krccsnet_train_'+str(sensing_rate)+'.pth'\n",
    "state_dict = torch.load(path)\n",
    "model_kr.load_state_dict(state_dict)\n",
    "model_kr.cuda()\n",
    "p=0"
   ]
  },
  {
   "cell_type": "code",
   "execution_count": null,
   "metadata": {},
   "outputs": [],
   "source": [
    "KR_LKSN=reparm(model_kr.encoder)"
   ]
  },
  {
   "cell_type": "code",
   "execution_count": null,
   "metadata": {},
   "outputs": [],
   "source": [
    "model_kr.encoder=KR_LKSN\n",
    "dic=model_kr.state_dict()\n",
    "path='./saved_model/krccsnet_rep_nofinetune'+str(sensing_rate)+'.pth'\n",
    "torch.save(dic,path)"
   ]
  },
  {
   "cell_type": "code",
   "execution_count": null,
   "metadata": {},
   "outputs": [],
   "source": [
    "valid(model_kr)"
   ]
  }
 ],
 "metadata": {
  "kernelspec": {
   "display_name": "mmlab",
   "language": "python",
   "name": "python3"
  },
  "language_info": {
   "codemirror_mode": {
    "name": "ipython",
    "version": 3
   },
   "file_extension": ".py",
   "mimetype": "text/x-python",
   "name": "python",
   "nbconvert_exporter": "python",
   "pygments_lexer": "ipython3",
   "version": "3.8.13"
  },
  "orig_nbformat": 4,
  "vscode": {
   "interpreter": {
    "hash": "03d346a83c18471f9d33ef00f7a091afdf0289b52cfe23952271e18c68d37eb0"
   }
  }
 },
 "nbformat": 4,
 "nbformat_minor": 2
}
